{
 "cells": [
  {
   "cell_type": "markdown",
   "id": "b6226dcb-a282-456b-996b-09eca21c7b5e",
   "metadata": {},
   "source": [
    "## Imports"
   ]
  },
  {
   "cell_type": "code",
   "execution_count": 24,
   "id": "07da805c-c80a-425b-bde1-07122d3e7bc8",
   "metadata": {},
   "outputs": [
    {
     "name": "stdout",
     "output_type": "stream",
     "text": [
      "./data\n"
     ]
    }
   ],
   "source": [
    "import os\n",
    "import math\n",
    "import numpy as np\n",
    "import pandas as pd\n",
    "import random\n",
    "\n",
    "import torch\n",
    "import torchaudio\n",
    "import torch.utils.data as data\n",
    "import torch.optim as optim\n",
    "import torch.nn.functional as F\n",
    "import torchaudio.transforms as T\n",
    "import torchaudio.functional as AF\n",
    "import matplotlib.pyplot as plt\n",
    "import IPython.display as ipd\n",
    "\n",
    "from sklearn.metrics import (\n",
    "    roc_curve,\n",
    "    RocCurveDisplay,\n",
    "    roc_auc_score, \n",
    "    confusion_matrix, \n",
    "    precision_score, \n",
    "    recall_score, \n",
    "    f1_score\n",
    ")\n",
    "from sklearn.model_selection import train_test_split\n",
    "from tqdm import tqdm\n",
    "from torch.utils.data import Dataset, DataLoader\n",
    "from typing import Union, Tuple\n",
    "\n",
    "torch.manual_seed(7)\n",
    "torchaudio.set_audio_backend(\"sox_io\")\n",
    "device = torch.device(\"cuda\" if torch.cuda.is_available() else \"cpu\")\n",
    "\n",
    "\n",
    "DATA_DIR = './data'\n",
    "if 'LIBRITTS_DIR' in os.environ and os.environ['LIBRITTS_DIR'] != None:\n",
    "    DATA_DIR = os.environ['LIBRITTS_DIR']\n",
    "\n",
    "if not os.path.isdir(DATA_DIR):\n",
    "    os.makedirs(DATA_DIR)\n",
    "\n",
    "print(DATA_DIR)"
   ]
  },
  {
   "cell_type": "markdown",
   "id": "25757f41-4a5b-4528-9394-e55e15a33430",
   "metadata": {},
   "source": [
    "## Data"
   ]
  },
  {
   "cell_type": "markdown",
   "id": "c2baa61b-7d7e-48f4-81d1-c5c195f538e9",
   "metadata": {},
   "source": [
    "В задании указано использовать LibriTTS. В torchaudio уже есть обертка над этим датасетом torchaudio.datasets.LIBRITTS, но ей не совсем удобно пользоваться, т.к. по умолчанию она возвращет wav файл и еще 6 различных параметров, которые потом не используются. Так же приходится отдельно заниматься выравниваем аудифайлов в тренировочных функциях и в зависимости от train/val выборки применять torchaudio.transforms. Не удобно. \n",
    "\n",
    "Поэтому я написал свою обертку, которая наследуются от оригинального torchaudio.datasets.LIBRITTS и переопределяет функцию **\\_\\_get_item_\\_**. При этом есть параметр, по которому выравниваются все аудиофайлы. Так же внутри парсится файл SPEAKERS.txt, откуда можно получить информацию диктор в аудиофайле мужчина или женщина. "
   ]
  },
  {
   "cell_type": "code",
   "execution_count": 17,
   "id": "fe62e858-9165-4daa-9799-0399aaa07a1d",
   "metadata": {},
   "outputs": [],
   "source": [
    "class MaleFemaleDataset(torchaudio.datasets.LIBRITTS):\n",
    "    \"\"\"\n",
    "    Wrapper around torchaudio.datasets.LIBRITTS. \n",
    "    Filter audio files by size and apply transforms\n",
    "    \"\"\"\n",
    "    def __init__(self, audio_length=None, transform=None, **kwargs):\n",
    "        \"\"\"\n",
    "        :param audio_length: length of audiofiles in dataset in seconds.\n",
    "        :param transform: \n",
    "        \"\"\"\n",
    "        super(MaleFemaleDataset, self).__init__(**kwargs)\n",
    "        \n",
    "        self.audio_length = audio_length\n",
    "        self.transform = transform\n",
    "        \n",
    "        if self.audio_length != None:\n",
    "            self.__filter_audio_files()\n",
    "        \n",
    "        speakers_file_path = os.path.join(kwargs['root'], 'LibriTTS', 'SPEAKERS.txt')\n",
    "        self.speaker_id_to_label = self.__parse_speakers_file(speakers_file_path)\n",
    "    \n",
    "    def __filter_audio_files(self):\n",
    "        '''\n",
    "        Filter audio files with size lower than audio_length seconds\n",
    "        '''\n",
    "        new_walker = []\n",
    "        for file_stem in self._walker:\n",
    "            speaker_id, chapter_id, segment_id, utterance_id = file_stem.split(\"_\")\n",
    "            file_audio = os.path.join(self._path, speaker_id, chapter_id, file_stem + self._ext_audio)\n",
    "\n",
    "            waveform, sample_rate = torchaudio.load(file_audio)\n",
    "            if waveform.shape[1] >= self.audio_length * sample_rate:\n",
    "                new_walker.append(file_stem)\n",
    "        \n",
    "        self._walker = new_walker\n",
    "    \n",
    "    def __parse_speakers_file(self, file_path: str) -> dict:\n",
    "        '''\n",
    "        Parse SPEAKERS.txt file and return dict[sex] -> 0|1\n",
    "        '''\n",
    "        df = pd.read_csv(\n",
    "            file_path, \n",
    "            sep='\\|\\s+', \n",
    "            comment=';', \n",
    "            header=None,\n",
    "            names=['id', 'sex', 'subset', 'minutes', 'name'],\n",
    "            engine='python'\n",
    "        )\n",
    "        df['sex'] = df['sex'].apply(lambda x: 0 if x.strip() == 'F' else 1)\n",
    "        return {k: v for k, v in df[['id', 'sex']].values}\n",
    "        \n",
    "        \n",
    "    def __getitem__(self, n: int) -> Tuple[torch.Tensor, int]:\n",
    "        waveform, sample_rate, _, _, speaker_id, _, _ = torchaudio.datasets.libritts.load_libritts_item(\n",
    "            self._walker[n],\n",
    "            self._path,\n",
    "            self._ext_audio,\n",
    "            self._ext_original_txt,\n",
    "            self._ext_normalized_txt,\n",
    "        )\n",
    "        \n",
    "        if self.audio_length != None:\n",
    "            waveform = waveform[:, :self.audio_length * sample_rate]\n",
    "        \n",
    "        if self.transform != None:\n",
    "            waveform = self.transform(waveform)\n",
    "        \n",
    "        return waveform, self.speaker_id_to_label[speaker_id]\n",
    "\n",
    "\n",
    "dataset = MaleFemaleDataset(\n",
    "    audio_length=2,\n",
    "    root=DATA_DIR, \n",
    "    url='test-clean', \n",
    "    download=True\n",
    ")"
   ]
  },
  {
   "cell_type": "code",
   "execution_count": 18,
   "id": "3d227162-d0b3-4806-8f35-e978ad1efcc4",
   "metadata": {},
   "outputs": [
    {
     "name": "stdout",
     "output_type": "stream",
     "text": [
      "torch.Size([1, 48000]) 0\n"
     ]
    },
    {
     "data": {
      "text/html": [
       "\n",
       "                <audio  controls=\"controls\" >\n",
       "                    <source src=\"data:audio/wav;base64,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\" type=\"audio/wav\" />\n",
       "                    Your browser does not support the audio element.\n",
       "                </audio>\n",
       "              "
      ],
      "text/plain": [
       "<IPython.lib.display.Audio object>"
      ]
     },
     "execution_count": 18,
     "metadata": {},
     "output_type": "execute_result"
    }
   ],
   "source": [
    "for waveform, label in dataset:\n",
    "    if label == 0:\n",
    "        print(waveform.shape, label)\n",
    "        break\n",
    "    \n",
    "ipd.Audio(waveform, rate=24000)"
   ]
  },
  {
   "cell_type": "code",
   "execution_count": 19,
   "id": "205053ff-90ff-4211-936f-9b9b702fce62",
   "metadata": {},
   "outputs": [],
   "source": [
    "ORIG_SAMPLE_RATE = 24000\n",
    "SAMPLE_RATE = 16000\n",
    "\n",
    "input_transform = torch.nn.Sequential(\n",
    "    torchaudio.transforms.Resample(orig_freq=ORIG_SAMPLE_RATE, \n",
    "                                   new_freq=SAMPLE_RATE),\n",
    "    torchaudio.transforms.MelSpectrogram(\n",
    "        sample_rate=SAMPLE_RATE, \n",
    "        n_fft=512, \n",
    "        win_length=int(0.025 * SAMPLE_RATE),\n",
    "        hop_length=int(0.01 * SAMPLE_RATE), \n",
    "        n_mels=64\n",
    "    )\n",
    ")\n",
    "\n",
    "train_audio_transforms = torch.nn.Sequential(\n",
    "    input_transform,\n",
    "    # torchaudio.transforms.FrequencyMasking(freq_mask_param=30),\n",
    "    # torchaudio.transforms.TimeMasking(time_mask_param=100)\n",
    ")\n",
    "\n",
    "valid_audio_transforms = input_transform\n",
    "\n",
    "\n",
    "batch_size = 128\n",
    "audio_file_length = 2\n",
    "\n",
    "train_dataset = MaleFemaleDataset(\n",
    "    audio_length=audio_file_length,\n",
    "    transform=train_audio_transforms,\n",
    "    root=DATA_DIR, \n",
    "    url='train-clean-100', \n",
    "    download=True\n",
    ")\n",
    "test_dataset = MaleFemaleDataset(\n",
    "    audio_length=audio_file_length,\n",
    "    transform=valid_audio_transforms,\n",
    "    root=DATA_DIR, \n",
    "    url='test-clean', \n",
    "    download=True\n",
    ")\n",
    "    \n",
    "kwargs = {'num_workers': 1, 'pin_memory': True} if torch.cuda.is_available() else {}\n",
    "train_loader = data.DataLoader(\n",
    "    dataset=train_dataset,\n",
    "    batch_size=batch_size,\n",
    "    shuffle=True,\n",
    "    **kwargs\n",
    ")\n",
    "test_loader = data.DataLoader(\n",
    "    dataset=test_dataset,\n",
    "    batch_size=batch_size,\n",
    "    shuffle=False,\n",
    "    **kwargs\n",
    ")"
   ]
  },
  {
   "cell_type": "code",
   "execution_count": 20,
   "id": "d00b9212-67c8-48d1-9857-f9bf254da331",
   "metadata": {},
   "outputs": [
    {
     "name": "stdout",
     "output_type": "stream",
     "text": [
      "torch.Size([128, 1, 64, 201])\n",
      "torch.Size([128, 1, 64, 201])\n",
      "torch.Size([128, 1, 64, 201])\n",
      "torch.Size([128, 1, 64, 201])\n"
     ]
    }
   ],
   "source": [
    "for batch_idx, (tensor, label) in enumerate(train_loader):\n",
    "    print(tensor.shape)\n",
    "    # print(label)\n",
    "    if batch_idx == 3:\n",
    "        break"
   ]
  },
  {
   "cell_type": "markdown",
   "id": "e064d830-b072-4f21-81df-26fef7beb478",
   "metadata": {},
   "source": [
    "## Model"
   ]
  },
  {
   "cell_type": "code",
   "execution_count": 21,
   "id": "1ae087ea-cd6d-41e9-82b1-936bf71e8426",
   "metadata": {},
   "outputs": [],
   "source": [
    "class MaleFemaleModel(torch.nn.Module):\n",
    "\n",
    "    def __init__(\n",
    "        self,\n",
    "        input_size=80,\n",
    "        time_size=100,\n",
    "        output_size=1,\n",
    "        conv2d_filters=32,\n",
    "    ):\n",
    "        super(MaleFemaleModel, self).__init__()\n",
    "        \n",
    "        self.conv_in = torch.nn.Sequential(\n",
    "            torch.nn.Conv2d(1, conv2d_filters, kernel_size=(3,3), stride=(2,2), padding=(1,1)),\n",
    "            torch.nn.ReLU(),\n",
    "            torch.nn.Conv2d(conv2d_filters, conv2d_filters, kernel_size=(3,3), stride=(2,2), padding=(1,1)),\n",
    "            torch.nn.ReLU(),\n",
    "        )\n",
    "        self.conv_out = torch.nn.Sequential(\n",
    "            torch.nn.Linear(conv2d_filters * (input_size // 4) * (time_size // 4 + 1), 100),\n",
    "            torch.nn.Linear(100, output_size),\n",
    "        )\n",
    "\n",
    "    def forward(self, x):\n",
    "        x = self.conv_in(x)\n",
    "        b, c, t, f = x.size()\n",
    "        x = self.conv_out(x.contiguous().view(b, t * c * f))\n",
    "        x = torch.sigmoid(x)\n",
    "        return x"
   ]
  },
  {
   "cell_type": "code",
   "execution_count": 57,
   "id": "63b8739e-a922-4ca9-82b4-c89ca73de165",
   "metadata": {},
   "outputs": [],
   "source": [
    "class CNNLayerNorm(torch.nn.Module):\n",
    "    \"\"\"Layer normalization built for cnns input\"\"\"\n",
    "    def __init__(self, n_feats):\n",
    "        super(CNNLayerNorm, self).__init__()\n",
    "        self.layer_norm = torch.nn.LayerNorm(n_feats)\n",
    "\n",
    "    def forward(self, x):\n",
    "        # x (batch, channel, feature, time)\n",
    "        x = x.transpose(2, 3).contiguous() # (batch, channel, time, feature)\n",
    "        x = self.layer_norm(x)\n",
    "        return x.transpose(2, 3).contiguous() # (batch, channel, feature, time) \n",
    "\n",
    "class ResidualCNN(torch.nn.Module):\n",
    "    \"\"\"Residual CNN inspired by https://arxiv.org/pdf/1603.05027.pdf\n",
    "        except with layer norm instead of batch norm\n",
    "    \"\"\"\n",
    "    def __init__(self, in_channels, out_channels, kernel, stride, dropout, n_feats):\n",
    "        super(ResidualCNN, self).__init__()\n",
    "\n",
    "        self.cnn1 = torch.nn.Conv2d(in_channels, out_channels, kernel, stride, padding=kernel//2)\n",
    "        self.cnn2 = torch.nn.Conv2d(out_channels, out_channels, kernel, stride, padding=kernel//2)\n",
    "        self.dropout1 = torch.nn.Dropout(dropout)\n",
    "        self.dropout2 = torch.nn.Dropout(dropout)\n",
    "        self.layer_norm1 = CNNLayerNorm(n_feats)\n",
    "        self.layer_norm2 = CNNLayerNorm(n_feats)\n",
    "\n",
    "    def forward(self, x):\n",
    "        residual = x  # (batch, channel, feature, time)\n",
    "        x = self.layer_norm1(x)\n",
    "        x = F.gelu(x)\n",
    "        x = self.dropout1(x)\n",
    "        x = self.cnn1(x)\n",
    "        x = self.layer_norm2(x)\n",
    "        x = F.gelu(x)\n",
    "        x = self.dropout2(x)\n",
    "        x = self.cnn2(x)\n",
    "        x += residual\n",
    "        return x # (batch, channel, feature, time)\n",
    "        \n",
    "\n",
    "class MaleFemaleModelV2(torch.nn.Module):\n",
    "    \"\"\"Speech Recognition Model Inspired by DeepSpeech 2\"\"\"\n",
    "\n",
    "    def __init__(self, \n",
    "                 n_cnn_layers=4, \n",
    "                 input_size=80,\n",
    "                 time_size=100,\n",
    "                 output_size=1,\n",
    "                 stride=2, \n",
    "                 dropout=0.1):\n",
    "        super(MaleFemaleModelV2, self).__init__()\n",
    "        \n",
    "        input_size = input_size//2\n",
    "        self.cnn = torch.nn.Conv2d(1, 32, 3, stride=stride, padding=3//2)  \n",
    "\n",
    "        # n residual cnn layers with filter size of 32\n",
    "        self.rescnn_layers = torch.nn.Sequential(*[\n",
    "            ResidualCNN(32, 32, kernel=3, stride=1, dropout=dropout, n_feats=input_size) \n",
    "            for _ in range(n_cnn_layers)\n",
    "        ])\n",
    "        layer_size = 32 * input_size * (time_size // 2 + 1)\n",
    "        self.classifier = torch.nn.Sequential(\n",
    "            torch.nn.Linear(layer_size, 100),\n",
    "            torch.nn.GELU(),\n",
    "            torch.nn.Dropout(dropout),\n",
    "            torch.nn.Linear(100, output_size)\n",
    "        )\n",
    "\n",
    "    def forward(self, x):\n",
    "        x = self.cnn(x)\n",
    "        x = self.rescnn_layers(x)\n",
    "        b, c, t, f = x.size()\n",
    "        x = x.contiguous().view(b, t * c * f)\n",
    "        x = self.classifier(x)\n",
    "        x = torch.sigmoid(x)\n",
    "        return x"
   ]
  },
  {
   "cell_type": "code",
   "execution_count": 54,
   "id": "61ea5e5c-00ac-41ae-aafe-d431d8c07658",
   "metadata": {},
   "outputs": [
    {
     "name": "stdout",
     "output_type": "stream",
     "text": [
      "torch.Size([3, 1, 64, 201])\n",
      "torch.Size([3, 32, 32, 101])\n",
      "torch.Size([3, 1])\n"
     ]
    }
   ],
   "source": [
    "x = torch.rand([3, 1, 64, 201])\n",
    "model = MaleFemaleModelV2(input_size=64, time_size=201)\n",
    "output = model(x)\n",
    "print(output.shape)"
   ]
  },
  {
   "cell_type": "markdown",
   "id": "3d14ab8e-cc6d-4369-a4e7-ac2ec47daa4f",
   "metadata": {},
   "source": [
    "## Train"
   ]
  },
  {
   "cell_type": "code",
   "execution_count": 97,
   "id": "19ad63f4-2fcc-49b9-8a20-34e3429eafea",
   "metadata": {},
   "outputs": [],
   "source": [
    "def train(model, device, train_loader, criterion, optimizer, epoch):\n",
    "    model.train()\n",
    "    data_len = len(train_loader.dataset)\n",
    "    \n",
    "    train_loss = 0\n",
    "    for data_, labels in tqdm(train_loader, total=len(train_loader), desc=\"training...\"):\n",
    "        data_ = data_.to(device)\n",
    "        labels = labels.to(device) \n",
    "        \n",
    "        output = model(data_)\n",
    "        output = output.squeeze()\n",
    "        loss = criterion(output, labels.float())\n",
    "        \n",
    "        optimizer.zero_grad()\n",
    "        loss.backward()\n",
    "        optimizer.step()\n",
    "        \n",
    "        train_loss += loss.item() / len(train_loader)\n",
    "        \n",
    "    return train_loss\n",
    "\n",
    "\n",
    "def test(model, device, test_loader, criterion, epoch):\n",
    "    model.eval()\n",
    "    test_loss = 0\n",
    "    correct = 0\n",
    "    with torch.no_grad():\n",
    "        for data_, labels in tqdm(test_loader, \n",
    "                                  total=len(test_loader), \n",
    "                                  desc=\"validation...\"):\n",
    "            data_ = data_.to(device)\n",
    "            labels = labels.to(device) \n",
    "            \n",
    "            output = model(data_)\n",
    "            output = output.squeeze()\n",
    "\n",
    "            loss = criterion(output, labels.float())\n",
    "            test_loss += loss.item() / len(test_loader)\n",
    "            \n",
    "            output = torch.round(output)\n",
    "            correct += output.eq(labels).sum().item()\n",
    "         \n",
    "    acc = correct / len(test_loader.dataset)\n",
    "    \n",
    "    return test_loss, acc\n",
    "\n",
    "\n",
    "def main(model, input_size, time_size, learning_rate, epochs_count):\n",
    "    optimizer = optim.Adam(model.parameters(), learning_rate)\n",
    "    criterion = torch.nn.BCELoss().to(device)\n",
    "\n",
    "    best_val_loss = np.inf\n",
    "    for epoch in range(1, epochs_count + 1):\n",
    "        train_loss = train(model, device, train_loader, criterion, optimizer, epoch)\n",
    "        val_loss, val_acc = test(model, device, test_loader, criterion, epoch)\n",
    "\n",
    "        print(f\"Epoch #{epoch:2}:\\ttrain loss: {train_loss:5.2}\\tval loss: {val_loss:5.2}\\tval acc: {val_acc:5.2}\")\n",
    "\n",
    "        if val_loss < best_val_loss:\n",
    "            best_val_loss = val_loss\n",
    "            with open(\"best.pth\", \"wb\") as fp:\n",
    "                torch.save(model.state_dict(), fp)"
   ]
  },
  {
   "cell_type": "code",
   "execution_count": 108,
   "id": "4e036d03-d825-4193-a59e-f5bdbd0f65bb",
   "metadata": {},
   "outputs": [
    {
     "name": "stderr",
     "output_type": "stream",
     "text": [
      "training...: 100%|██████████| 211/211 [00:42<00:00,  4.92it/s]\n",
      "validation...: 100%|██████████| 31/31 [00:06<00:00,  4.84it/s]\n",
      "training...:   0%|          | 0/211 [00:00<?, ?it/s]"
     ]
    },
    {
     "name": "stdout",
     "output_type": "stream",
     "text": [
      "Epoch # 1:\ttrain loss:  0.42\tval loss:  0.24\tval acc:  0.94\n"
     ]
    },
    {
     "name": "stderr",
     "output_type": "stream",
     "text": [
      "training...: 100%|██████████| 211/211 [00:41<00:00,  5.09it/s]\n",
      "validation...: 100%|██████████| 31/31 [00:06<00:00,  4.87it/s]\n",
      "training...:   0%|          | 0/211 [00:00<?, ?it/s]"
     ]
    },
    {
     "name": "stdout",
     "output_type": "stream",
     "text": [
      "Epoch # 2:\ttrain loss:  0.21\tval loss:  0.12\tval acc:  0.96\n"
     ]
    },
    {
     "name": "stderr",
     "output_type": "stream",
     "text": [
      "training...: 100%|██████████| 211/211 [00:41<00:00,  5.09it/s]\n",
      "validation...: 100%|██████████| 31/31 [00:06<00:00,  4.80it/s]\n",
      "training...:   0%|          | 0/211 [00:00<?, ?it/s]"
     ]
    },
    {
     "name": "stdout",
     "output_type": "stream",
     "text": [
      "Epoch # 3:\ttrain loss:  0.14\tval loss:  0.13\tval acc:  0.97\n"
     ]
    },
    {
     "name": "stderr",
     "output_type": "stream",
     "text": [
      "training...: 100%|██████████| 211/211 [00:41<00:00,  5.11it/s]\n",
      "validation...: 100%|██████████| 31/31 [00:06<00:00,  4.82it/s]\n",
      "training...:   0%|          | 0/211 [00:00<?, ?it/s]"
     ]
    },
    {
     "name": "stdout",
     "output_type": "stream",
     "text": [
      "Epoch # 4:\ttrain loss: 0.099\tval loss:  0.16\tval acc:  0.95\n"
     ]
    },
    {
     "name": "stderr",
     "output_type": "stream",
     "text": [
      "training...: 100%|██████████| 211/211 [00:41<00:00,  5.10it/s]\n",
      "validation...: 100%|██████████| 31/31 [00:06<00:00,  4.85it/s]\n",
      "training...:   0%|          | 0/211 [00:00<?, ?it/s]"
     ]
    },
    {
     "name": "stdout",
     "output_type": "stream",
     "text": [
      "Epoch # 5:\ttrain loss: 0.078\tval loss:  0.11\tval acc:  0.97\n"
     ]
    },
    {
     "name": "stderr",
     "output_type": "stream",
     "text": [
      "training...: 100%|██████████| 211/211 [00:41<00:00,  5.10it/s]\n",
      "validation...: 100%|██████████| 31/31 [00:06<00:00,  4.80it/s]\n",
      "training...:   0%|          | 0/211 [00:00<?, ?it/s]"
     ]
    },
    {
     "name": "stdout",
     "output_type": "stream",
     "text": [
      "Epoch # 6:\ttrain loss: 0.074\tval loss:  0.12\tval acc:  0.96\n"
     ]
    },
    {
     "name": "stderr",
     "output_type": "stream",
     "text": [
      "training...: 100%|██████████| 211/211 [00:41<00:00,  5.08it/s]\n",
      "validation...: 100%|██████████| 31/31 [00:06<00:00,  4.82it/s]\n",
      "training...:   0%|          | 0/211 [00:00<?, ?it/s]"
     ]
    },
    {
     "name": "stdout",
     "output_type": "stream",
     "text": [
      "Epoch # 7:\ttrain loss: 0.059\tval loss:  0.11\tval acc:  0.97\n"
     ]
    },
    {
     "name": "stderr",
     "output_type": "stream",
     "text": [
      "training...: 100%|██████████| 211/211 [00:41<00:00,  5.07it/s]\n",
      "validation...: 100%|██████████| 31/31 [00:06<00:00,  4.83it/s]\n",
      "training...:   0%|          | 0/211 [00:00<?, ?it/s]"
     ]
    },
    {
     "name": "stdout",
     "output_type": "stream",
     "text": [
      "Epoch # 8:\ttrain loss:  0.06\tval loss:  0.17\tval acc:  0.96\n"
     ]
    },
    {
     "name": "stderr",
     "output_type": "stream",
     "text": [
      "training...: 100%|██████████| 211/211 [00:41<00:00,  5.08it/s]\n",
      "validation...: 100%|██████████| 31/31 [00:06<00:00,  4.80it/s]\n",
      "training...:   0%|          | 0/211 [00:00<?, ?it/s]"
     ]
    },
    {
     "name": "stdout",
     "output_type": "stream",
     "text": [
      "Epoch # 9:\ttrain loss: 0.057\tval loss:  0.21\tval acc:  0.95\n"
     ]
    },
    {
     "name": "stderr",
     "output_type": "stream",
     "text": [
      "training...: 100%|██████████| 211/211 [00:41<00:00,  5.06it/s]\n",
      "validation...: 100%|██████████| 31/31 [00:06<00:00,  4.82it/s]"
     ]
    },
    {
     "name": "stdout",
     "output_type": "stream",
     "text": [
      "Epoch #10:\ttrain loss: 0.048\tval loss:   0.2\tval acc:  0.97\n"
     ]
    },
    {
     "name": "stderr",
     "output_type": "stream",
     "text": [
      "\n"
     ]
    }
   ],
   "source": [
    "input_size = 64\n",
    "time_size = 201\n",
    "learning_rate = 3e-4\n",
    "epochs_count = 10\n",
    "\n",
    "model = MaleFemaleModel(\n",
    "    input_size=input_size, \n",
    "    time_size=time_size\n",
    ").to(device)\n",
    "\n",
    "main(model, input_size, time_size, learning_rate, epochs_count)"
   ]
  },
  {
   "cell_type": "code",
   "execution_count": 98,
   "id": "32b8bc7b-5edf-4859-a0ea-d274180b5a25",
   "metadata": {},
   "outputs": [
    {
     "name": "stderr",
     "output_type": "stream",
     "text": [
      "training...: 100%|██████████| 211/211 [01:38<00:00,  2.14it/s]\n",
      "validation...: 100%|██████████| 31/31 [00:08<00:00,  3.83it/s]\n",
      "training...:   0%|          | 0/211 [00:00<?, ?it/s]"
     ]
    },
    {
     "name": "stdout",
     "output_type": "stream",
     "text": [
      "Epoch # 1:\ttrain loss:  0.62\tval loss: 0.083\tval acc:  0.98\n"
     ]
    },
    {
     "name": "stderr",
     "output_type": "stream",
     "text": [
      "training...: 100%|██████████| 211/211 [01:40<00:00,  2.10it/s]\n",
      "validation...: 100%|██████████| 31/31 [00:06<00:00,  4.69it/s]\n",
      "training...:   0%|          | 0/211 [00:00<?, ?it/s]"
     ]
    },
    {
     "name": "stdout",
     "output_type": "stream",
     "text": [
      "Epoch # 2:\ttrain loss:  0.15\tval loss: 0.073\tval acc:  0.98\n"
     ]
    },
    {
     "name": "stderr",
     "output_type": "stream",
     "text": [
      "training...: 100%|██████████| 211/211 [01:42<00:00,  2.06it/s]\n",
      "validation...: 100%|██████████| 31/31 [00:06<00:00,  4.68it/s]\n",
      "training...:   0%|          | 0/211 [00:00<?, ?it/s]"
     ]
    },
    {
     "name": "stdout",
     "output_type": "stream",
     "text": [
      "Epoch # 3:\ttrain loss:  0.11\tval loss: 0.091\tval acc:  0.96\n"
     ]
    },
    {
     "name": "stderr",
     "output_type": "stream",
     "text": [
      "training...: 100%|██████████| 211/211 [01:42<00:00,  2.06it/s]\n",
      "validation...: 100%|██████████| 31/31 [00:06<00:00,  4.69it/s]\n",
      "training...:   0%|          | 0/211 [00:00<?, ?it/s]"
     ]
    },
    {
     "name": "stdout",
     "output_type": "stream",
     "text": [
      "Epoch # 4:\ttrain loss: 0.079\tval loss: 0.086\tval acc:  0.97\n"
     ]
    },
    {
     "name": "stderr",
     "output_type": "stream",
     "text": [
      "training...: 100%|██████████| 211/211 [01:42<00:00,  2.06it/s]\n",
      "validation...: 100%|██████████| 31/31 [00:06<00:00,  4.67it/s]\n",
      "training...:   0%|          | 0/211 [00:00<?, ?it/s]"
     ]
    },
    {
     "name": "stdout",
     "output_type": "stream",
     "text": [
      "Epoch # 5:\ttrain loss: 0.066\tval loss: 0.087\tval acc:  0.97\n"
     ]
    },
    {
     "name": "stderr",
     "output_type": "stream",
     "text": [
      "training...: 100%|██████████| 211/211 [01:42<00:00,  2.07it/s]\n",
      "validation...: 100%|██████████| 31/31 [00:06<00:00,  4.69it/s]\n",
      "training...:   0%|          | 0/211 [00:00<?, ?it/s]"
     ]
    },
    {
     "name": "stdout",
     "output_type": "stream",
     "text": [
      "Epoch # 6:\ttrain loss: 0.053\tval loss:  0.16\tval acc:  0.96\n"
     ]
    },
    {
     "name": "stderr",
     "output_type": "stream",
     "text": [
      "training...: 100%|██████████| 211/211 [01:42<00:00,  2.07it/s]\n",
      "validation...: 100%|██████████| 31/31 [00:06<00:00,  4.69it/s]\n",
      "training...:   0%|          | 0/211 [00:00<?, ?it/s]"
     ]
    },
    {
     "name": "stdout",
     "output_type": "stream",
     "text": [
      "Epoch # 7:\ttrain loss: 0.046\tval loss:  0.11\tval acc:  0.97\n"
     ]
    },
    {
     "name": "stderr",
     "output_type": "stream",
     "text": [
      "training...: 100%|██████████| 211/211 [01:42<00:00,  2.07it/s]\n",
      "validation...: 100%|██████████| 31/31 [00:06<00:00,  4.63it/s]\n",
      "training...:   0%|          | 0/211 [00:00<?, ?it/s]"
     ]
    },
    {
     "name": "stdout",
     "output_type": "stream",
     "text": [
      "Epoch # 8:\ttrain loss: 0.044\tval loss: 0.095\tval acc:  0.97\n"
     ]
    },
    {
     "name": "stderr",
     "output_type": "stream",
     "text": [
      "training...: 100%|██████████| 211/211 [01:42<00:00,  2.07it/s]\n",
      "validation...: 100%|██████████| 31/31 [00:06<00:00,  4.65it/s]\n",
      "training...:   0%|          | 0/211 [00:00<?, ?it/s]"
     ]
    },
    {
     "name": "stdout",
     "output_type": "stream",
     "text": [
      "Epoch # 9:\ttrain loss: 0.033\tval loss:  0.12\tval acc:  0.97\n"
     ]
    },
    {
     "name": "stderr",
     "output_type": "stream",
     "text": [
      "training...: 100%|██████████| 211/211 [01:42<00:00,  2.07it/s]\n",
      "validation...: 100%|██████████| 31/31 [00:06<00:00,  4.67it/s]"
     ]
    },
    {
     "name": "stdout",
     "output_type": "stream",
     "text": [
      "Epoch #10:\ttrain loss:  0.03\tval loss: 0.091\tval acc:  0.98\n"
     ]
    },
    {
     "name": "stderr",
     "output_type": "stream",
     "text": [
      "\n"
     ]
    }
   ],
   "source": [
    "n_cnn_layers = 8\n",
    "input_size = 64\n",
    "time_size = 201\n",
    "learning_rate = 3e-4\n",
    "epochs_count = 10\n",
    "\n",
    "model = MaleFemaleModelV2(\n",
    "    n_cnn_layers=n_cnn_layers,\n",
    "    input_size=input_size, \n",
    "    time_size=time_size\n",
    ").to(device)\n",
    "\n",
    "main(model, input_size, time_size, learning_rate, epochs_count)"
   ]
  },
  {
   "cell_type": "markdown",
   "id": "77c3d622-3b2f-40e0-9da4-01a00751d7f8",
   "metadata": {},
   "source": [
    "## Prediction"
   ]
  },
  {
   "cell_type": "code",
   "execution_count": 99,
   "id": "ce13b515-f1f3-44bd-b9b6-ef434327c721",
   "metadata": {},
   "outputs": [],
   "source": [
    "model = MaleFemaleModelV2(\n",
    "    n_cnn_layers=n_cnn_layers,\n",
    "    input_size=input_size, \n",
    "    time_size=time_size\n",
    ")\n",
    "with open(\"best.pth\", \"rb\") as fp:\n",
    "    best_state_dict = torch.load(fp, map_location=\"cpu\")\n",
    "    model.load_state_dict(best_state_dict)"
   ]
  },
  {
   "cell_type": "code",
   "execution_count": 100,
   "id": "ae0a1acc-bb72-49a0-ae58-9296a4a4f282",
   "metadata": {},
   "outputs": [],
   "source": [
    "def predict(model, loader):\n",
    "    model.eval()\n",
    "\n",
    "    total_predictions_proba = []\n",
    "    total_labels = []\n",
    "    with torch.no_grad():\n",
    "        for data_, labels in tqdm(loader, \n",
    "                                  total=len(loader), \n",
    "                                  desc=\"prediction...\"):\n",
    "\n",
    "            output = model(data_)\n",
    "\n",
    "            total_predictions_proba.append(output.squeeze().numpy())\n",
    "            total_labels.append(labels.float().numpy())\n",
    "\n",
    "    predictions_proba = np.array(total_predictions_proba[:-1]).flatten()\n",
    "    labels = np.array(total_labels[:-1]).flatten()\n",
    "    \n",
    "    return predictions_proba, labels\n",
    "\n",
    "def print_metrics(predictions):\n",
    "    conf_matrix = confusion_matrix(labels, predictions)\n",
    "    precision = precision_score(labels, predictions)\n",
    "    recall = recall_score(labels, predictions)\n",
    "    f1_score_ = f1_score(labels, predictions)\n",
    "    roc_auc = roc_auc_score(labels, predictions)\n",
    "\n",
    "    print(\"Confusion Matrix\")\n",
    "    print(\"-----------\")\n",
    "    print(conf_matrix)\n",
    "    print(f\"Precision:\\t{precision}\")\n",
    "    print(f\"Recall: \\t{recall}\")\n",
    "    print(f\"F1 Score:\\t{f1_score_}\")\n",
    "    print(f\"Roc Auc score:\\t{roc_auc}\")"
   ]
  },
  {
   "cell_type": "code",
   "execution_count": 101,
   "id": "c2930135-8c71-4297-afc5-1e60e95c0a9c",
   "metadata": {},
   "outputs": [
    {
     "name": "stderr",
     "output_type": "stream",
     "text": [
      "prediction...: 100%|██████████| 31/31 [00:36<00:00,  1.16s/it]\n"
     ]
    }
   ],
   "source": [
    "predictions_proba, labels = predict(model, test_loader)"
   ]
  },
  {
   "cell_type": "code",
   "execution_count": 102,
   "id": "4475984f-0d87-4228-a678-d9e3c872f08b",
   "metadata": {},
   "outputs": [
    {
     "name": "stdout",
     "output_type": "stream",
     "text": [
      "95.96723377441714 0.6549258\n"
     ]
    },
    {
     "data": {
      "image/png": "[encoded data removed]",
      "text/plain": [
       "<Figure size 432x288 with 1 Axes>"
      ]
     },
     "metadata": {
      "needs_background": "light"
     },
     "output_type": "display_data"
    }
   ],
   "source": [
    "fpr_threshold = 0.01\n",
    "fpr, tpr, thr = roc_curve(labels, predictions_proba)\n",
    "\n",
    "index = np.argwhere(fpr <= fpr_threshold).flatten()[-1]\n",
    "tpr_score = 100 * tpr[index]\n",
    "\n",
    "optimal_threshold = thr[index]\n",
    "\n",
    "RocCurveDisplay(fpr=fpr, tpr=tpr).plot()\n",
    "print(tpr_score, optimal_threshold)"
   ]
  },
  {
   "cell_type": "code",
   "execution_count": 103,
   "id": "f7b775e7-b75a-41ac-8110-0951236f781d",
   "metadata": {},
   "outputs": [
    {
     "name": "stdout",
     "output_type": "stream",
     "text": [
      "Confusion Matrix\n",
      "-----------\n",
      "[[2231   22]\n",
      " [  64 1523]]\n",
      "Precision:\t0.9857605177993527\n",
      "Recall: \t0.9596723377441714\n",
      "F1 Score:\t0.9725415070242656\n",
      "Roc Auc score:\t0.9749537898219304\n"
     ]
    }
   ],
   "source": [
    "predictions = predictions_proba.copy()\n",
    "predictions[predictions_proba >= optimal_threshold] = 1\n",
    "predictions[predictions_proba < optimal_threshold] = 0\n",
    "\n",
    "print_metrics(predictions)"
   ]
  },
  {
   "cell_type": "markdown",
   "id": "55e54c6d-d7e1-4f01-8b28-a2f32b372f9a",
   "metadata": {},
   "source": [
    "## Dev-clean"
   ]
  },
  {
   "cell_type": "code",
   "execution_count": 104,
   "id": "30e563e0-d012-4cf3-8457-86f9214f7979",
   "metadata": {},
   "outputs": [],
   "source": [
    "dev_clean_dataset = MaleFemaleDataset(\n",
    "    audio_length=audio_file_length,\n",
    "    transform=valid_audio_transforms,\n",
    "    root=DATA_DIR, \n",
    "    url='dev-clean', \n",
    "    download=True\n",
    ")\n",
    "    \n",
    "dev_clean_loader = data.DataLoader(\n",
    "    dataset=dev_clean_dataset,\n",
    "    batch_size=batch_size,\n",
    "    shuffle=False,\n",
    "    **kwargs\n",
    ")"
   ]
  },
  {
   "cell_type": "code",
   "execution_count": 105,
   "id": "fb2dcb07-217e-4be2-a0a0-0e09cee8893a",
   "metadata": {},
   "outputs": [
    {
     "name": "stderr",
     "output_type": "stream",
     "text": [
      "prediction...: 100%|██████████| 37/37 [00:42<00:00,  1.14s/it]\n"
     ]
    }
   ],
   "source": [
    "predictions_proba, labels = predict(model, dev_clean_loader)"
   ]
  },
  {
   "cell_type": "code",
   "execution_count": 106,
   "id": "3ba6da1f-bcb2-4a9d-bef9-7762858a98ee",
   "metadata": {},
   "outputs": [
    {
     "name": "stdout",
     "output_type": "stream",
     "text": [
      "81.39023317201935 0.5467209\n"
     ]
    },
    {
     "data": {
      "image/png": "[encoded data removed]",
      "text/plain": [
       "<Figure size 432x288 with 1 Axes>"
      ]
     },
     "metadata": {
      "needs_background": "light"
     },
     "output_type": "display_data"
    }
   ],
   "source": [
    "fpr_threshold = 0.01\n",
    "fpr, tpr, thr = roc_curve(labels, predictions_proba)\n",
    "\n",
    "index = np.argwhere(fpr <= fpr_threshold).flatten()[-1]\n",
    "tpr_score = 100 * tpr[index]\n",
    "\n",
    "optimal_threshold = thr[index]\n",
    "\n",
    "RocCurveDisplay(fpr=fpr, tpr=tpr).plot()\n",
    "print(tpr_score, optimal_threshold)"
   ]
  },
  {
   "cell_type": "code",
   "execution_count": 107,
   "id": "11964fa0-62ca-4273-a317-37f9696e621e",
   "metadata": {},
   "outputs": [
    {
     "name": "stdout",
     "output_type": "stream",
     "text": [
      "Confusion Matrix\n",
      "-----------\n",
      "[[2312   23]\n",
      " [ 423 1850]]\n",
      "Precision:\t0.987720234917245\n",
      "Recall: \t0.8139023317201936\n",
      "F1 Score:\t0.8924264351181862\n",
      "Roc Auc score:\t0.9020261123269063\n"
     ]
    }
   ],
   "source": [
    "predictions = predictions_proba.copy()\n",
    "predictions[predictions_proba >= optimal_threshold] = 1\n",
    "predictions[predictions_proba < optimal_threshold] = 0\n",
    "\n",
    "print_metrics(predictions)"
   ]
  },
  {
   "cell_type": "markdown",
   "id": "ccec7916-6ce2-4f82-9885-76cb0bea45e8",
   "metadata": {},
   "source": [
    "## Что еще можно попробовать?\n",
    "1. Данные\n",
    "    * Сейчас из каждого аудиофайла берется лишь первые несколько секунд в зависимости от параметра audio_length в MaleFemaleDataset. При этом в датасете есть достаточно большие аудиофайлы, где диктор произносит целые предложения. Можно из таких файлов нарезать еще данных размера audio_length. Это позволит увелить количество данных.\n",
    "    * Попробовать разные варианты audio_length. Ожидается, что чем больше будет длина файла, тем большее сможем вытянуть свертками информации для итоговой классификации. Но не стоит забывать, что т.к. надо выравнивать аудио файлы, то при достаточно большом audio_length все меньшие файлы будет отбрасываться, что приведет к уменьшению датасета. \n",
    "    * Так же можно попробовать аугментации. Например, в pytorch уже есть реализованные FrequencyMasking и TimeMasking, которые случайным образом зануляют куски спектра по той или иной координате. \n",
    "    \n",
    "2. Модель\n",
    "    * **DONE.** МодельМодельМодельМодельМодельМодельВ данной работе я использовал достаточно простую модель и больше сконцентрировался на выстроении пайплайна и работе с данными. Но можно было рассмотреть модель с большим количеством слоев и residiual connections. Например, вот [тут](https://www.assemblyai.com/blog/end-to-end-speech-recognition-pytorch/) есть реализация похожей модели. \n",
    "3. Тренировка\n",
    "    * Scheduler наше все.\n",
    "    * Не забываем про правильно подобранный learning rate. \n",
    "    * Для наилучшей тренировки стоит добавить сохранение графиков в tensorboard, чтобы можно было наблюдать тренируется модель. "
   ]
  }
 ],
 "metadata": {
  "kernelspec": {
   "display_name": "Python 3",
   "language": "python",
   "name": "python3"
  },
  "language_info": {
   "codemirror_mode": {
    "name": "ipython",
    "version": 3
   },
   "file_extension": ".py",
   "mimetype": "text/x-python",
   "name": "python",
   "nbconvert_exporter": "python",
   "pygments_lexer": "ipython3",
   "version": "3.6.9"
  }
 },
 "nbformat": 4,
 "nbformat_minor": 5
}
